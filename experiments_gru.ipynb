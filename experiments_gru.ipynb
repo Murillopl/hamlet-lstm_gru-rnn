{
 "cells": [
  {
   "cell_type": "code",
   "execution_count": 4,
   "id": "7425c37b",
   "metadata": {},
   "outputs": [
    {
     "name": "stderr",
     "output_type": "stream",
     "text": [
      "[nltk_data] Downloading package gutenberg to\n",
      "[nltk_data]     C:\\Users\\mplec\\AppData\\Roaming\\nltk_data...\n",
      "[nltk_data]   Package gutenberg is already up-to-date!\n"
     ]
    }
   ],
   "source": [
    "## Data Collection\n",
    "import nltk\n",
    "nltk.download('gutenberg')\n",
    "from nltk.corpus import gutenberg\n",
    "import  pandas as pd\n",
    "import pickle\n",
    "\n",
    "## load the dataset\n",
    "data=gutenberg.raw('shakespeare-hamlet.txt')\n",
    "## save to a file\n",
    "with open('hamlet.txt','w') as file:\n",
    "    file.write(data)"
   ]
  },
  {
   "cell_type": "code",
   "execution_count": 5,
   "id": "03d349e8",
   "metadata": {},
   "outputs": [],
   "source": [
    "## Data Preprocessing\n",
    "\n",
    "import numpy as np\n",
    "from tensorflow.keras.preprocessing.sequence import pad_sequences\n",
    "from sklearn.model_selection import train_test_split\n",
    "\n",
    "##laod the dataset\n",
    "\n",
    "with open('tokenizer.pickle','rb') as handle:\n",
    "    tokenizer=pickle.load(handle)"
   ]
  },
  {
   "cell_type": "code",
   "execution_count": 7,
   "id": "b9ee2692",
   "metadata": {},
   "outputs": [],
   "source": [
    "with open('hamlet.txt','r') as file:\n",
    "    text=file.read().lower()"
   ]
  },
  {
   "cell_type": "code",
   "execution_count": 8,
   "id": "986973d5",
   "metadata": {},
   "outputs": [],
   "source": [
    "## create input sequences\n",
    "input_sequences=[]\n",
    "for line in text.split('\\n'):\n",
    "    token_list=tokenizer.texts_to_sequences([line])[0]\n",
    "    for i in range(1,len(token_list)):\n",
    "        n_gram_sequence=token_list[:i+1]\n",
    "        input_sequences.append(n_gram_sequence)"
   ]
  },
  {
   "cell_type": "code",
   "execution_count": 9,
   "id": "b1dd069f",
   "metadata": {},
   "outputs": [
    {
     "data": {
      "text/plain": [
       "14"
      ]
     },
     "execution_count": 9,
     "metadata": {},
     "output_type": "execute_result"
    }
   ],
   "source": [
    "## Pad Sequences\n",
    "max_sequence_len=max([len(x) for x in input_sequences])\n",
    "max_sequence_len"
   ]
  },
  {
   "cell_type": "code",
   "execution_count": 10,
   "id": "24b6aa1f",
   "metadata": {},
   "outputs": [
    {
     "data": {
      "text/plain": [
       "array([[   0,    0,    0, ...,    0,    1,  687],\n",
       "       [   0,    0,    0, ...,    1,  687,    4],\n",
       "       [   0,    0,    0, ...,  687,    4,   45],\n",
       "       ...,\n",
       "       [   0,    0,    0, ...,    4,   45, 1047],\n",
       "       [   0,    0,    0, ...,   45, 1047,    4],\n",
       "       [   0,    0,    0, ..., 1047,    4,  193]])"
      ]
     },
     "execution_count": 10,
     "metadata": {},
     "output_type": "execute_result"
    }
   ],
   "source": [
    "input_sequences=np.array(pad_sequences(input_sequences,maxlen=max_sequence_len,padding='pre'))\n",
    "input_sequences"
   ]
  },
  {
   "cell_type": "code",
   "execution_count": 11,
   "id": "aadc6a01",
   "metadata": {},
   "outputs": [],
   "source": [
    "##create predicitors and label\n",
    "import tensorflow as tf\n",
    "x,y=input_sequences[:,:-1],input_sequences[:,-1]"
   ]
  },
  {
   "cell_type": "code",
   "execution_count": 13,
   "id": "8a2851c9",
   "metadata": {},
   "outputs": [
    {
     "data": {
      "text/plain": [
       "array([[0., 0., 0., ..., 0., 0., 0.],\n",
       "       [0., 0., 0., ..., 0., 0., 0.],\n",
       "       [0., 0., 0., ..., 0., 0., 0.],\n",
       "       ...,\n",
       "       [0., 0., 0., ..., 0., 0., 0.],\n",
       "       [0., 0., 0., ..., 0., 0., 0.],\n",
       "       [0., 0., 0., ..., 0., 0., 0.]], dtype=float32)"
      ]
     },
     "execution_count": 13,
     "metadata": {},
     "output_type": "execute_result"
    }
   ],
   "source": [
    "total_words=len(tokenizer.word_index)+1\n",
    "y=tf.keras.utils.to_categorical(y,num_classes=total_words)\n",
    "y"
   ]
  },
  {
   "cell_type": "code",
   "execution_count": 14,
   "id": "e8f38838",
   "metadata": {},
   "outputs": [],
   "source": [
    "# Split the data into training and testing sets\n",
    "x_train, x_test, y_train, y_test = train_test_split(x, y, test_size=0.2)"
   ]
  },
  {
   "cell_type": "code",
   "execution_count": 15,
   "id": "1f6f8740",
   "metadata": {},
   "outputs": [],
   "source": [
    "# Define early stopping\n",
    "from tensorflow.keras.callbacks import EarlyStopping\n",
    "early_stopping = EarlyStopping(monitor='val_loss', patience=3, restore_best_weights=True)"
   ]
  },
  {
   "cell_type": "code",
   "execution_count": 16,
   "id": "d94ba869",
   "metadata": {},
   "outputs": [
    {
     "name": "stdout",
     "output_type": "stream",
     "text": [
      "WARNING:tensorflow:From d:\\project\\LSTM RNN Hamlet prediction\\venv\\Lib\\site-packages\\keras\\src\\backend.py:873: The name tf.get_default_graph is deprecated. Please use tf.compat.v1.get_default_graph instead.\n",
      "\n",
      "WARNING:tensorflow:From d:\\project\\LSTM RNN Hamlet prediction\\venv\\Lib\\site-packages\\keras\\src\\optimizers\\__init__.py:309: The name tf.train.Optimizer is deprecated. Please use tf.compat.v1.train.Optimizer instead.\n",
      "\n",
      "Model: \"sequential\"\n",
      "_________________________________________________________________\n",
      " Layer (type)                Output Shape              Param #   \n",
      "=================================================================\n",
      " embedding (Embedding)       (None, 13, 100)           481800    \n",
      "                                                                 \n",
      " gru (GRU)                   (None, 13, 150)           113400    \n",
      "                                                                 \n",
      " dropout (Dropout)           (None, 13, 150)           0         \n",
      "                                                                 \n",
      " gru_1 (GRU)                 (None, 100)               75600     \n",
      "                                                                 \n",
      " dense (Dense)               (None, 4818)              486618    \n",
      "                                                                 \n",
      "=================================================================\n",
      "Total params: 1157418 (4.42 MB)\n",
      "Trainable params: 1157418 (4.42 MB)\n",
      "Non-trainable params: 0 (0.00 Byte)\n",
      "_________________________________________________________________\n"
     ]
    }
   ],
   "source": [
    "## Train the GRU RNN\n",
    "\n",
    "from tensorflow.keras.models import Sequential\n",
    "from tensorflow.keras.layers import Embedding, Dense, Dropout, GRU\n",
    "\n",
    "model=Sequential()\n",
    "model.add(Embedding(total_words,100,input_length=max_sequence_len-1))\n",
    "model.add(GRU(150,return_sequences=True))\n",
    "model.add(Dropout(0.2))\n",
    "model.add(GRU(100))\n",
    "model.add(Dense(total_words,activation=\"softmax\"))\n",
    "\n",
    "# #Compile the model\n",
    "model.compile(loss=\"categorical_crossentropy\",optimizer='adam',metrics=['accuracy'])\n",
    "model.summary()"
   ]
  },
  {
   "cell_type": "code",
   "execution_count": 17,
   "id": "58e6e990",
   "metadata": {},
   "outputs": [
    {
     "name": "stdout",
     "output_type": "stream",
     "text": [
      "Epoch 1/100\n",
      "WARNING:tensorflow:From d:\\project\\LSTM RNN Hamlet prediction\\venv\\Lib\\site-packages\\keras\\src\\utils\\tf_utils.py:492: The name tf.ragged.RaggedTensorValue is deprecated. Please use tf.compat.v1.ragged.RaggedTensorValue instead.\n",
      "\n",
      "WARNING:tensorflow:From d:\\project\\LSTM RNN Hamlet prediction\\venv\\Lib\\site-packages\\keras\\src\\engine\\base_layer_utils.py:384: The name tf.executing_eagerly_outside_functions is deprecated. Please use tf.compat.v1.executing_eagerly_outside_functions instead.\n",
      "\n",
      "644/644 [==============================] - 24s 26ms/step - loss: 7.0279 - accuracy: 0.0305 - val_loss: 6.9386 - val_accuracy: 0.0334\n",
      "Epoch 2/100\n",
      "644/644 [==============================] - 15s 24ms/step - loss: 6.4841 - accuracy: 0.0412 - val_loss: 6.9145 - val_accuracy: 0.0416\n",
      "Epoch 3/100\n",
      "644/644 [==============================] - 15s 24ms/step - loss: 6.2716 - accuracy: 0.0509 - val_loss: 6.8971 - val_accuracy: 0.0521\n",
      "Epoch 4/100\n",
      "644/644 [==============================] - 15s 24ms/step - loss: 6.0544 - accuracy: 0.0658 - val_loss: 6.8938 - val_accuracy: 0.0633\n",
      "Epoch 5/100\n",
      "644/644 [==============================] - 15s 24ms/step - loss: 5.8099 - accuracy: 0.0798 - val_loss: 6.9369 - val_accuracy: 0.0692\n",
      "Epoch 6/100\n",
      "644/644 [==============================] - 15s 24ms/step - loss: 5.5638 - accuracy: 0.0903 - val_loss: 7.0179 - val_accuracy: 0.0725\n",
      "Epoch 7/100\n",
      "644/644 [==============================] - 16s 25ms/step - loss: 5.3368 - accuracy: 0.1001 - val_loss: 7.0613 - val_accuracy: 0.0746\n",
      "Epoch 8/100\n",
      "644/644 [==============================] - 15s 24ms/step - loss: 5.1218 - accuracy: 0.1105 - val_loss: 7.2031 - val_accuracy: 0.0711\n",
      "Epoch 9/100\n",
      "644/644 [==============================] - 15s 24ms/step - loss: 4.9107 - accuracy: 0.1189 - val_loss: 7.3111 - val_accuracy: 0.0721\n",
      "Epoch 10/100\n",
      "644/644 [==============================] - 15s 24ms/step - loss: 4.7123 - accuracy: 0.1355 - val_loss: 7.4255 - val_accuracy: 0.0694\n",
      "Epoch 11/100\n",
      "644/644 [==============================] - 15s 24ms/step - loss: 4.5239 - accuracy: 0.1514 - val_loss: 7.5119 - val_accuracy: 0.0711\n",
      "Epoch 12/100\n",
      "644/644 [==============================] - 15s 24ms/step - loss: 4.3398 - accuracy: 0.1745 - val_loss: 7.5826 - val_accuracy: 0.0643\n",
      "Epoch 13/100\n",
      "644/644 [==============================] - 15s 24ms/step - loss: 4.1705 - accuracy: 0.1927 - val_loss: 7.6477 - val_accuracy: 0.0643\n",
      "Epoch 14/100\n",
      "644/644 [==============================] - 15s 24ms/step - loss: 4.0070 - accuracy: 0.2181 - val_loss: 7.7810 - val_accuracy: 0.0612\n",
      "Epoch 15/100\n",
      "644/644 [==============================] - 15s 24ms/step - loss: 3.8579 - accuracy: 0.2361 - val_loss: 7.8430 - val_accuracy: 0.0626\n",
      "Epoch 16/100\n",
      "644/644 [==============================] - 15s 24ms/step - loss: 3.7102 - accuracy: 0.2591 - val_loss: 7.9314 - val_accuracy: 0.0666\n",
      "Epoch 17/100\n",
      "644/644 [==============================] - 15s 24ms/step - loss: 3.5796 - accuracy: 0.2781 - val_loss: 8.0215 - val_accuracy: 0.0641\n",
      "Epoch 18/100\n",
      "644/644 [==============================] - 15s 24ms/step - loss: 3.4556 - accuracy: 0.3000 - val_loss: 8.1165 - val_accuracy: 0.0626\n",
      "Epoch 19/100\n",
      "644/644 [==============================] - 15s 24ms/step - loss: 3.3322 - accuracy: 0.3223 - val_loss: 8.2001 - val_accuracy: 0.0643\n",
      "Epoch 20/100\n",
      "644/644 [==============================] - 15s 24ms/step - loss: 3.2235 - accuracy: 0.3368 - val_loss: 8.2549 - val_accuracy: 0.0616\n",
      "Epoch 21/100\n",
      "644/644 [==============================] - 15s 24ms/step - loss: 3.1223 - accuracy: 0.3573 - val_loss: 8.3348 - val_accuracy: 0.0622\n",
      "Epoch 22/100\n",
      "644/644 [==============================] - 15s 24ms/step - loss: 3.0195 - accuracy: 0.3723 - val_loss: 8.4267 - val_accuracy: 0.0631\n",
      "Epoch 23/100\n",
      "644/644 [==============================] - 15s 24ms/step - loss: 2.9259 - accuracy: 0.3905 - val_loss: 8.5216 - val_accuracy: 0.0620\n",
      "Epoch 24/100\n",
      "644/644 [==============================] - 16s 24ms/step - loss: 2.8399 - accuracy: 0.4058 - val_loss: 8.6020 - val_accuracy: 0.0593\n",
      "Epoch 25/100\n",
      "644/644 [==============================] - 15s 24ms/step - loss: 2.7565 - accuracy: 0.4213 - val_loss: 8.6657 - val_accuracy: 0.0618\n",
      "Epoch 26/100\n",
      "644/644 [==============================] - 15s 24ms/step - loss: 2.6801 - accuracy: 0.4375 - val_loss: 8.7265 - val_accuracy: 0.0595\n",
      "Epoch 27/100\n",
      "644/644 [==============================] - 15s 24ms/step - loss: 2.6008 - accuracy: 0.4507 - val_loss: 8.8190 - val_accuracy: 0.0575\n",
      "Epoch 28/100\n",
      "644/644 [==============================] - 15s 24ms/step - loss: 2.5308 - accuracy: 0.4621 - val_loss: 8.8645 - val_accuracy: 0.0581\n",
      "Epoch 29/100\n",
      "644/644 [==============================] - 15s 24ms/step - loss: 2.4629 - accuracy: 0.4780 - val_loss: 8.9398 - val_accuracy: 0.0560\n",
      "Epoch 30/100\n",
      "644/644 [==============================] - 16s 24ms/step - loss: 2.4033 - accuracy: 0.4870 - val_loss: 8.9653 - val_accuracy: 0.0585\n",
      "Epoch 31/100\n",
      "644/644 [==============================] - 15s 24ms/step - loss: 2.3374 - accuracy: 0.4991 - val_loss: 9.0366 - val_accuracy: 0.0565\n",
      "Epoch 32/100\n",
      "644/644 [==============================] - 15s 24ms/step - loss: 2.2755 - accuracy: 0.5103 - val_loss: 9.1167 - val_accuracy: 0.0591\n",
      "Epoch 33/100\n",
      "644/644 [==============================] - 15s 24ms/step - loss: 2.2237 - accuracy: 0.5222 - val_loss: 9.1768 - val_accuracy: 0.0606\n",
      "Epoch 34/100\n",
      "644/644 [==============================] - 16s 24ms/step - loss: 2.1718 - accuracy: 0.5302 - val_loss: 9.2273 - val_accuracy: 0.0561\n",
      "Epoch 35/100\n",
      "644/644 [==============================] - 16s 24ms/step - loss: 2.1197 - accuracy: 0.5385 - val_loss: 9.2945 - val_accuracy: 0.0525\n",
      "Epoch 36/100\n",
      "644/644 [==============================] - 16s 24ms/step - loss: 2.0744 - accuracy: 0.5531 - val_loss: 9.3201 - val_accuracy: 0.0550\n",
      "Epoch 37/100\n",
      "644/644 [==============================] - 16s 24ms/step - loss: 2.0184 - accuracy: 0.5599 - val_loss: 9.4116 - val_accuracy: 0.0538\n",
      "Epoch 38/100\n",
      "644/644 [==============================] - 16s 24ms/step - loss: 1.9768 - accuracy: 0.5678 - val_loss: 9.4608 - val_accuracy: 0.0573\n",
      "Epoch 39/100\n",
      "644/644 [==============================] - 16s 24ms/step - loss: 1.9419 - accuracy: 0.5748 - val_loss: 9.5188 - val_accuracy: 0.0560\n",
      "Epoch 40/100\n",
      "644/644 [==============================] - 16s 24ms/step - loss: 1.8956 - accuracy: 0.5860 - val_loss: 9.5987 - val_accuracy: 0.0565\n",
      "Epoch 41/100\n",
      "644/644 [==============================] - 15s 24ms/step - loss: 1.8516 - accuracy: 0.5925 - val_loss: 9.6432 - val_accuracy: 0.0548\n",
      "Epoch 42/100\n",
      "644/644 [==============================] - 15s 24ms/step - loss: 1.8150 - accuracy: 0.6023 - val_loss: 9.7010 - val_accuracy: 0.0503\n",
      "Epoch 43/100\n",
      "644/644 [==============================] - 15s 24ms/step - loss: 1.7883 - accuracy: 0.6035 - val_loss: 9.7543 - val_accuracy: 0.0563\n",
      "Epoch 44/100\n",
      "644/644 [==============================] - 15s 24ms/step - loss: 1.7488 - accuracy: 0.6152 - val_loss: 9.8011 - val_accuracy: 0.0548\n",
      "Epoch 45/100\n",
      "644/644 [==============================] - 15s 24ms/step - loss: 1.7094 - accuracy: 0.6237 - val_loss: 9.8494 - val_accuracy: 0.0556\n",
      "Epoch 46/100\n",
      "644/644 [==============================] - 15s 24ms/step - loss: 1.6788 - accuracy: 0.6302 - val_loss: 9.8942 - val_accuracy: 0.0556\n",
      "Epoch 47/100\n",
      "644/644 [==============================] - 15s 24ms/step - loss: 1.6529 - accuracy: 0.6315 - val_loss: 9.9570 - val_accuracy: 0.0540\n",
      "Epoch 48/100\n",
      "644/644 [==============================] - 15s 24ms/step - loss: 1.6368 - accuracy: 0.6346 - val_loss: 10.0055 - val_accuracy: 0.0554\n",
      "Epoch 49/100\n",
      "644/644 [==============================] - 15s 24ms/step - loss: 1.5998 - accuracy: 0.6436 - val_loss: 10.0466 - val_accuracy: 0.0558\n",
      "Epoch 50/100\n",
      "644/644 [==============================] - 15s 24ms/step - loss: 1.5722 - accuracy: 0.6478 - val_loss: 10.1015 - val_accuracy: 0.0513\n",
      "Epoch 51/100\n",
      "644/644 [==============================] - 15s 24ms/step - loss: 1.5488 - accuracy: 0.6523 - val_loss: 10.1444 - val_accuracy: 0.0532\n",
      "Epoch 52/100\n",
      "644/644 [==============================] - 15s 24ms/step - loss: 1.5179 - accuracy: 0.6559 - val_loss: 10.1566 - val_accuracy: 0.0560\n",
      "Epoch 53/100\n",
      "644/644 [==============================] - 15s 24ms/step - loss: 1.4976 - accuracy: 0.6608 - val_loss: 10.2515 - val_accuracy: 0.0542\n",
      "Epoch 54/100\n",
      "644/644 [==============================] - 15s 24ms/step - loss: 1.4735 - accuracy: 0.6676 - val_loss: 10.2867 - val_accuracy: 0.0540\n",
      "Epoch 55/100\n",
      "644/644 [==============================] - 15s 24ms/step - loss: 1.4629 - accuracy: 0.6702 - val_loss: 10.3427 - val_accuracy: 0.0530\n",
      "Epoch 56/100\n",
      "644/644 [==============================] - 15s 24ms/step - loss: 1.4342 - accuracy: 0.6742 - val_loss: 10.3623 - val_accuracy: 0.0521\n",
      "Epoch 57/100\n",
      "644/644 [==============================] - 15s 24ms/step - loss: 1.4168 - accuracy: 0.6764 - val_loss: 10.4078 - val_accuracy: 0.0523\n",
      "Epoch 58/100\n",
      "644/644 [==============================] - 15s 24ms/step - loss: 1.3944 - accuracy: 0.6836 - val_loss: 10.4249 - val_accuracy: 0.0503\n",
      "Epoch 59/100\n",
      "644/644 [==============================] - 15s 24ms/step - loss: 1.3785 - accuracy: 0.6875 - val_loss: 10.4961 - val_accuracy: 0.0536\n",
      "Epoch 60/100\n",
      "644/644 [==============================] - 15s 24ms/step - loss: 1.3675 - accuracy: 0.6903 - val_loss: 10.5307 - val_accuracy: 0.0521\n",
      "Epoch 61/100\n",
      "644/644 [==============================] - 15s 24ms/step - loss: 1.3436 - accuracy: 0.6934 - val_loss: 10.5878 - val_accuracy: 0.0517\n",
      "Epoch 62/100\n",
      "644/644 [==============================] - 15s 24ms/step - loss: 1.3304 - accuracy: 0.6959 - val_loss: 10.6170 - val_accuracy: 0.0505\n",
      "Epoch 63/100\n",
      "644/644 [==============================] - 16s 24ms/step - loss: 1.3086 - accuracy: 0.6995 - val_loss: 10.6530 - val_accuracy: 0.0495\n",
      "Epoch 64/100\n",
      "644/644 [==============================] - 15s 24ms/step - loss: 1.2943 - accuracy: 0.7010 - val_loss: 10.7077 - val_accuracy: 0.0492\n",
      "Epoch 65/100\n",
      "644/644 [==============================] - 15s 24ms/step - loss: 1.2776 - accuracy: 0.7077 - val_loss: 10.7207 - val_accuracy: 0.0515\n",
      "Epoch 66/100\n",
      "644/644 [==============================] - 15s 24ms/step - loss: 1.2683 - accuracy: 0.7067 - val_loss: 10.7821 - val_accuracy: 0.0563\n",
      "Epoch 67/100\n",
      "644/644 [==============================] - 15s 24ms/step - loss: 1.2567 - accuracy: 0.7114 - val_loss: 10.7952 - val_accuracy: 0.0515\n",
      "Epoch 68/100\n",
      "644/644 [==============================] - 15s 24ms/step - loss: 1.2437 - accuracy: 0.7111 - val_loss: 10.8203 - val_accuracy: 0.0542\n",
      "Epoch 69/100\n",
      "644/644 [==============================] - 15s 24ms/step - loss: 1.2407 - accuracy: 0.7125 - val_loss: 10.8603 - val_accuracy: 0.0495\n",
      "Epoch 70/100\n",
      "644/644 [==============================] - 15s 24ms/step - loss: 1.2207 - accuracy: 0.7196 - val_loss: 10.9142 - val_accuracy: 0.0521\n",
      "Epoch 71/100\n",
      "644/644 [==============================] - 15s 24ms/step - loss: 1.2097 - accuracy: 0.7205 - val_loss: 10.9547 - val_accuracy: 0.0534\n",
      "Epoch 72/100\n",
      "644/644 [==============================] - 15s 24ms/step - loss: 1.1944 - accuracy: 0.7246 - val_loss: 10.9869 - val_accuracy: 0.0507\n",
      "Epoch 73/100\n",
      "644/644 [==============================] - 15s 24ms/step - loss: 1.1820 - accuracy: 0.7254 - val_loss: 11.0277 - val_accuracy: 0.0492\n",
      "Epoch 74/100\n",
      "644/644 [==============================] - 15s 24ms/step - loss: 1.1689 - accuracy: 0.7283 - val_loss: 11.0713 - val_accuracy: 0.0534\n",
      "Epoch 75/100\n",
      "644/644 [==============================] - 15s 24ms/step - loss: 1.1649 - accuracy: 0.7298 - val_loss: 11.0655 - val_accuracy: 0.0511\n",
      "Epoch 76/100\n",
      "644/644 [==============================] - 15s 24ms/step - loss: 1.1563 - accuracy: 0.7304 - val_loss: 11.1088 - val_accuracy: 0.0530\n",
      "Epoch 77/100\n",
      "644/644 [==============================] - 15s 24ms/step - loss: 1.1516 - accuracy: 0.7320 - val_loss: 11.1372 - val_accuracy: 0.0532\n",
      "Epoch 78/100\n",
      "644/644 [==============================] - 15s 24ms/step - loss: 1.1312 - accuracy: 0.7391 - val_loss: 11.1762 - val_accuracy: 0.0505\n",
      "Epoch 79/100\n",
      "644/644 [==============================] - 15s 24ms/step - loss: 1.1284 - accuracy: 0.7366 - val_loss: 11.2310 - val_accuracy: 0.0528\n",
      "Epoch 80/100\n",
      "644/644 [==============================] - 15s 24ms/step - loss: 1.1192 - accuracy: 0.7389 - val_loss: 11.2123 - val_accuracy: 0.0501\n",
      "Epoch 81/100\n",
      "644/644 [==============================] - 16s 24ms/step - loss: 1.1141 - accuracy: 0.7390 - val_loss: 11.2941 - val_accuracy: 0.0484\n",
      "Epoch 82/100\n",
      "644/644 [==============================] - 15s 24ms/step - loss: 1.1031 - accuracy: 0.7411 - val_loss: 11.3189 - val_accuracy: 0.0497\n",
      "Epoch 83/100\n",
      "644/644 [==============================] - 16s 24ms/step - loss: 1.0987 - accuracy: 0.7408 - val_loss: 11.3386 - val_accuracy: 0.0523\n",
      "Epoch 84/100\n",
      "644/644 [==============================] - 16s 24ms/step - loss: 1.0870 - accuracy: 0.7437 - val_loss: 11.4107 - val_accuracy: 0.0534\n",
      "Epoch 85/100\n",
      "644/644 [==============================] - 16s 24ms/step - loss: 1.0818 - accuracy: 0.7433 - val_loss: 11.3986 - val_accuracy: 0.0521\n",
      "Epoch 86/100\n",
      "644/644 [==============================] - 15s 24ms/step - loss: 1.0834 - accuracy: 0.7410 - val_loss: 11.4570 - val_accuracy: 0.0536\n",
      "Epoch 87/100\n",
      "644/644 [==============================] - 15s 24ms/step - loss: 1.0684 - accuracy: 0.7462 - val_loss: 11.4481 - val_accuracy: 0.0495\n",
      "Epoch 88/100\n",
      "644/644 [==============================] - 15s 24ms/step - loss: 1.0559 - accuracy: 0.7535 - val_loss: 11.4628 - val_accuracy: 0.0513\n",
      "Epoch 89/100\n",
      "644/644 [==============================] - 15s 24ms/step - loss: 1.0472 - accuracy: 0.7509 - val_loss: 11.4942 - val_accuracy: 0.0486\n",
      "Epoch 90/100\n",
      "644/644 [==============================] - 16s 24ms/step - loss: 1.0465 - accuracy: 0.7508 - val_loss: 11.5291 - val_accuracy: 0.0527\n",
      "Epoch 91/100\n",
      "644/644 [==============================] - 15s 24ms/step - loss: 1.0381 - accuracy: 0.7554 - val_loss: 11.5366 - val_accuracy: 0.0509\n",
      "Epoch 92/100\n",
      "644/644 [==============================] - 16s 24ms/step - loss: 1.0381 - accuracy: 0.7518 - val_loss: 11.5876 - val_accuracy: 0.0521\n",
      "Epoch 93/100\n",
      "644/644 [==============================] - 15s 24ms/step - loss: 1.0361 - accuracy: 0.7520 - val_loss: 11.6163 - val_accuracy: 0.0482\n",
      "Epoch 94/100\n",
      "644/644 [==============================] - 15s 24ms/step - loss: 1.0309 - accuracy: 0.7548 - val_loss: 11.6076 - val_accuracy: 0.0525\n",
      "Epoch 95/100\n",
      "644/644 [==============================] - 15s 24ms/step - loss: 1.0146 - accuracy: 0.7594 - val_loss: 11.6590 - val_accuracy: 0.0536\n",
      "Epoch 96/100\n",
      "644/644 [==============================] - 15s 24ms/step - loss: 0.9999 - accuracy: 0.7619 - val_loss: 11.7073 - val_accuracy: 0.0521\n",
      "Epoch 97/100\n",
      "644/644 [==============================] - 15s 24ms/step - loss: 1.0065 - accuracy: 0.7589 - val_loss: 11.7078 - val_accuracy: 0.0507\n",
      "Epoch 98/100\n",
      "644/644 [==============================] - 15s 24ms/step - loss: 1.0057 - accuracy: 0.7576 - val_loss: 11.7297 - val_accuracy: 0.0495\n",
      "Epoch 99/100\n",
      "644/644 [==============================] - 15s 24ms/step - loss: 1.0029 - accuracy: 0.7610 - val_loss: 11.7472 - val_accuracy: 0.0542\n",
      "Epoch 100/100\n",
      "644/644 [==============================] - 15s 24ms/step - loss: 0.9920 - accuracy: 0.7628 - val_loss: 11.7568 - val_accuracy: 0.0499\n"
     ]
    }
   ],
   "source": [
    "## Train the model\n",
    "history=model.fit(x_train,y_train,epochs=100,validation_data=(x_test,y_test),verbose=1)"
   ]
  },
  {
   "cell_type": "code",
   "execution_count": 18,
   "id": "37d6c84c",
   "metadata": {},
   "outputs": [],
   "source": [
    "# Function to predict the next word\n",
    "def predict_next_word(model, tokenizer, text, max_sequence_len):\n",
    "    token_list = tokenizer.texts_to_sequences([text])[0]\n",
    "    if len(token_list) >= max_sequence_len:\n",
    "        token_list = token_list[-(max_sequence_len-1):]  # Ensure the sequence length matches max_sequence_len-1\n",
    "    token_list = pad_sequences([token_list], maxlen=max_sequence_len-1, padding='pre')\n",
    "    predicted = model.predict(token_list, verbose=0)\n",
    "    predicted_word_index = np.argmax(predicted, axis=1)\n",
    "    for word, index in tokenizer.word_index.items():\n",
    "        if index == predicted_word_index:\n",
    "            return word\n",
    "    return None"
   ]
  },
  {
   "cell_type": "code",
   "execution_count": 19,
   "id": "f62aef73",
   "metadata": {},
   "outputs": [
    {
     "name": "stdout",
     "output_type": "stream",
     "text": [
      "Input text:To be or not to be a\n",
      "Next Word PRediction:fault\n"
     ]
    }
   ],
   "source": [
    "input_text=\"To be or not to be a\"\n",
    "print(f\"Input text:{input_text}\")\n",
    "max_sequence_len=model.input_shape[1]+1\n",
    "next_word=predict_next_word(model,tokenizer,input_text,max_sequence_len)\n",
    "print(f\"Next Word PRediction:{next_word}\")"
   ]
  },
  {
   "cell_type": "code",
   "execution_count": 20,
   "id": "ddda8717",
   "metadata": {},
   "outputs": [
    {
     "name": "stdout",
     "output_type": "stream",
     "text": [
      "Input text:thank you my\n",
      "Next Word PRediction:lord\n"
     ]
    }
   ],
   "source": [
    "input_text=\"thank you my\"\n",
    "print(f\"Input text:{input_text}\")\n",
    "max_sequence_len=model.input_shape[1]+1\n",
    "next_word=predict_next_word(model,tokenizer,input_text,max_sequence_len)\n",
    "print(f\"Next Word PRediction:{next_word}\")"
   ]
  },
  {
   "cell_type": "code",
   "execution_count": 21,
   "id": "a6f9c044",
   "metadata": {},
   "outputs": [
    {
     "name": "stderr",
     "output_type": "stream",
     "text": [
      "d:\\project\\LSTM RNN Hamlet prediction\\venv\\Lib\\site-packages\\keras\\src\\engine\\training.py:3103: UserWarning: You are saving your model as an HDF5 file via `model.save()`. This file format is considered legacy. We recommend using instead the native Keras format, e.g. `model.save('my_model.keras')`.\n",
      "  saving_api.save_model(\n"
     ]
    }
   ],
   "source": [
    "## Save the model\n",
    "model.save(\"next_word_gru.h5\")\n",
    "## Save the tokenizer\n",
    "import pickle\n",
    "with open('tokenizer.pickle','wb') as handle:\n",
    "    pickle.dump(tokenizer,handle,protocol=pickle.HIGHEST_PROTOCOL)"
   ]
  },
  {
   "cell_type": "code",
   "execution_count": null,
   "id": "d8c08d4d",
   "metadata": {},
   "outputs": [],
   "source": []
  }
 ],
 "metadata": {
  "kernelspec": {
   "display_name": "Python 3",
   "language": "python",
   "name": "python3"
  },
  "language_info": {
   "codemirror_mode": {
    "name": "ipython",
    "version": 3
   },
   "file_extension": ".py",
   "mimetype": "text/x-python",
   "name": "python",
   "nbconvert_exporter": "python",
   "pygments_lexer": "ipython3",
   "version": "3.11.7"
  }
 },
 "nbformat": 4,
 "nbformat_minor": 5
}
